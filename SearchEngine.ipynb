{
 "cells": [
  {
   "cell_type": "code",
   "execution_count": 87,
   "id": "71d84b74",
   "metadata": {},
   "outputs": [],
   "source": [
    "#Importing\n",
    "\n",
    "import warnings\n",
    "warnings.filterwarnings(\"ignore\")\n",
    "import pandas as pd\n",
    "import sqlite3\n",
    "import csv\n",
    "import matplotlib.pyplot as plt\n",
    "import seaborn as sns\n",
    "import numpy as np\n",
    "#from wordcloud import WordCloud\n",
    "import re\n",
    "import os\n",
    "from sqlalchemy import create_engine # database connection\n",
    "from nltk.corpus import stopwords\n",
    "from nltk.tokenize import word_tokenize\n",
    "from nltk.stem.snowball import SnowballStemmer\n",
    "from sklearn.feature_extraction.text import CountVectorizer\n",
    "from sklearn.feature_extraction.text import TfidfVectorizer\n",
    "from sklearn import metrics\n",
    "from sklearn.metrics import f1_score,precision_score,recall_score\n",
    "from datetime import datetime\n",
    "from sklearn.metrics.pairwise import cosine_similarity  \n",
    "from sklearn.metrics import pairwise_distances\n",
    "from sklearn.linear_model import SGDClassifier\n",
    "#from sklearn.externals import joblib\n",
    "import scipy.sparse\n",
    "import pickle\n",
    "from tqdm import tqdm\n",
    "from bs4 import BeautifulSoup"
   ]
  },
  {
   "cell_type": "code",
   "execution_count": 88,
   "id": "ba16ebf3",
   "metadata": {},
   "outputs": [],
   "source": [
    "#Get the data\n",
    "\n",
    "stack_data = pd.read_csv(\"train.csv\")"
   ]
  },
  {
   "cell_type": "code",
   "execution_count": 89,
   "id": "9f83ef3e",
   "metadata": {},
   "outputs": [
    {
     "data": {
      "text/html": [
       "<div>\n",
       "<style scoped>\n",
       "    .dataframe tbody tr th:only-of-type {\n",
       "        vertical-align: middle;\n",
       "    }\n",
       "\n",
       "    .dataframe tbody tr th {\n",
       "        vertical-align: top;\n",
       "    }\n",
       "\n",
       "    .dataframe thead th {\n",
       "        text-align: right;\n",
       "    }\n",
       "</style>\n",
       "<table border=\"1\" class=\"dataframe\">\n",
       "  <thead>\n",
       "    <tr style=\"text-align: right;\">\n",
       "      <th></th>\n",
       "      <th>Id</th>\n",
       "      <th>Title</th>\n",
       "      <th>Body</th>\n",
       "      <th>Tags</th>\n",
       "      <th>CreationDate</th>\n",
       "      <th>Y</th>\n",
       "    </tr>\n",
       "  </thead>\n",
       "  <tbody>\n",
       "    <tr>\n",
       "      <th>0</th>\n",
       "      <td>34552656</td>\n",
       "      <td>Java: Repeat Task Every Random Seconds</td>\n",
       "      <td>&lt;p&gt;I'm already familiar with repeating tasks e...</td>\n",
       "      <td>&lt;java&gt;&lt;repeat&gt;</td>\n",
       "      <td>2016-01-01 00:21:59</td>\n",
       "      <td>LQ_CLOSE</td>\n",
       "    </tr>\n",
       "    <tr>\n",
       "      <th>1</th>\n",
       "      <td>34553034</td>\n",
       "      <td>Why are Java Optionals immutable?</td>\n",
       "      <td>&lt;p&gt;I'd like to understand why Java 8 Optionals...</td>\n",
       "      <td>&lt;java&gt;&lt;optional&gt;</td>\n",
       "      <td>2016-01-01 02:03:20</td>\n",
       "      <td>HQ</td>\n",
       "    </tr>\n",
       "    <tr>\n",
       "      <th>2</th>\n",
       "      <td>34553174</td>\n",
       "      <td>Text Overlay Image with Darkened Opacity React...</td>\n",
       "      <td>&lt;p&gt;I am attempting to overlay a title over an ...</td>\n",
       "      <td>&lt;javascript&gt;&lt;image&gt;&lt;overlay&gt;&lt;react-native&gt;&lt;opa...</td>\n",
       "      <td>2016-01-01 02:48:24</td>\n",
       "      <td>HQ</td>\n",
       "    </tr>\n",
       "    <tr>\n",
       "      <th>3</th>\n",
       "      <td>34553318</td>\n",
       "      <td>Why ternary operator in swift is so picky?</td>\n",
       "      <td>&lt;p&gt;The question is very simple, but I just cou...</td>\n",
       "      <td>&lt;swift&gt;&lt;operators&gt;&lt;whitespace&gt;&lt;ternary-operato...</td>\n",
       "      <td>2016-01-01 03:30:17</td>\n",
       "      <td>HQ</td>\n",
       "    </tr>\n",
       "    <tr>\n",
       "      <th>4</th>\n",
       "      <td>34553755</td>\n",
       "      <td>hide/show fab with scale animation</td>\n",
       "      <td>&lt;p&gt;I'm using custom floatingactionmenu. I need...</td>\n",
       "      <td>&lt;android&gt;&lt;material-design&gt;&lt;floating-action-but...</td>\n",
       "      <td>2016-01-01 05:21:48</td>\n",
       "      <td>HQ</td>\n",
       "    </tr>\n",
       "    <tr>\n",
       "      <th>5</th>\n",
       "      <td>34554026</td>\n",
       "      <td>Accessing pointer member of the structure usin...</td>\n",
       "      <td>&lt;p&gt;I have defined integer pointer inside the s...</td>\n",
       "      <td>&lt;c&gt;&lt;pointers&gt;&lt;data-structures&gt;</td>\n",
       "      <td>2016-01-01 06:21:17</td>\n",
       "      <td>LQ_CLOSE</td>\n",
       "    </tr>\n",
       "    <tr>\n",
       "      <th>6</th>\n",
       "      <td>34554206</td>\n",
       "      <td>How To Disable 2nd Saturday 4th Saturday ,Sund...</td>\n",
       "      <td>i want to Disable 2nd Saturday 4th saturday,...</td>\n",
       "      <td>&lt;javascript&gt;&lt;jquery&gt;&lt;jquery-ui&gt;</td>\n",
       "      <td>2016-01-01 06:55:18</td>\n",
       "      <td>LQ_EDIT</td>\n",
       "    </tr>\n",
       "    <tr>\n",
       "      <th>7</th>\n",
       "      <td>34554671</td>\n",
       "      <td>Resizing containers in bootstrap</td>\n",
       "      <td>I am new to bootstrap and i would like to find...</td>\n",
       "      <td>&lt;jquery&gt;&lt;html&gt;&lt;css&gt;&lt;twitter-bootstrap&gt;</td>\n",
       "      <td>2016-01-01 08:32:05</td>\n",
       "      <td>LQ_EDIT</td>\n",
       "    </tr>\n",
       "    <tr>\n",
       "      <th>8</th>\n",
       "      <td>34554871</td>\n",
       "      <td>Changing Theme in Windows 10 UWP App Programma...</td>\n",
       "      <td>&lt;p&gt;I was able to change theme using &lt;code&gt;this...</td>\n",
       "      <td>&lt;c#&gt;&lt;windows-10&gt;&lt;windows-10-mobile&gt;&lt;windows-10...</td>\n",
       "      <td>2016-01-01 09:05:45</td>\n",
       "      <td>HQ</td>\n",
       "    </tr>\n",
       "    <tr>\n",
       "      <th>9</th>\n",
       "      <td>34554982</td>\n",
       "      <td>TextBox Value Disappears VB6</td>\n",
       "      <td>I my case I am having two form Form 1 and Form...</td>\n",
       "      <td>&lt;vb6&gt;</td>\n",
       "      <td>2016-01-01 09:27:44</td>\n",
       "      <td>LQ_EDIT</td>\n",
       "    </tr>\n",
       "  </tbody>\n",
       "</table>\n",
       "</div>"
      ],
      "text/plain": [
       "         Id                                              Title  \\\n",
       "0  34552656             Java: Repeat Task Every Random Seconds   \n",
       "1  34553034                  Why are Java Optionals immutable?   \n",
       "2  34553174  Text Overlay Image with Darkened Opacity React...   \n",
       "3  34553318         Why ternary operator in swift is so picky?   \n",
       "4  34553755                 hide/show fab with scale animation   \n",
       "5  34554026  Accessing pointer member of the structure usin...   \n",
       "6  34554206  How To Disable 2nd Saturday 4th Saturday ,Sund...   \n",
       "7  34554671                   Resizing containers in bootstrap   \n",
       "8  34554871  Changing Theme in Windows 10 UWP App Programma...   \n",
       "9  34554982                       TextBox Value Disappears VB6   \n",
       "\n",
       "                                                Body  \\\n",
       "0  <p>I'm already familiar with repeating tasks e...   \n",
       "1  <p>I'd like to understand why Java 8 Optionals...   \n",
       "2  <p>I am attempting to overlay a title over an ...   \n",
       "3  <p>The question is very simple, but I just cou...   \n",
       "4  <p>I'm using custom floatingactionmenu. I need...   \n",
       "5  <p>I have defined integer pointer inside the s...   \n",
       "6    i want to Disable 2nd Saturday 4th saturday,...   \n",
       "7  I am new to bootstrap and i would like to find...   \n",
       "8  <p>I was able to change theme using <code>this...   \n",
       "9  I my case I am having two form Form 1 and Form...   \n",
       "\n",
       "                                                Tags         CreationDate  \\\n",
       "0                                     <java><repeat>  2016-01-01 00:21:59   \n",
       "1                                   <java><optional>  2016-01-01 02:03:20   \n",
       "2  <javascript><image><overlay><react-native><opa...  2016-01-01 02:48:24   \n",
       "3  <swift><operators><whitespace><ternary-operato...  2016-01-01 03:30:17   \n",
       "4  <android><material-design><floating-action-but...  2016-01-01 05:21:48   \n",
       "5                     <c><pointers><data-structures>  2016-01-01 06:21:17   \n",
       "6                    <javascript><jquery><jquery-ui>  2016-01-01 06:55:18   \n",
       "7             <jquery><html><css><twitter-bootstrap>  2016-01-01 08:32:05   \n",
       "8  <c#><windows-10><windows-10-mobile><windows-10...  2016-01-01 09:05:45   \n",
       "9                                              <vb6>  2016-01-01 09:27:44   \n",
       "\n",
       "          Y  \n",
       "0  LQ_CLOSE  \n",
       "1        HQ  \n",
       "2        HQ  \n",
       "3        HQ  \n",
       "4        HQ  \n",
       "5  LQ_CLOSE  \n",
       "6   LQ_EDIT  \n",
       "7   LQ_EDIT  \n",
       "8        HQ  \n",
       "9   LQ_EDIT  "
      ]
     },
     "execution_count": 89,
     "metadata": {},
     "output_type": "execute_result"
    }
   ],
   "source": [
    "#See how the data looks\n",
    "\n",
    "stack_data.head(10)"
   ]
  },
  {
   "cell_type": "code",
   "execution_count": 90,
   "id": "66e6002c",
   "metadata": {},
   "outputs": [
    {
     "data": {
      "text/plain": [
       "(45000, 6)"
      ]
     },
     "execution_count": 90,
     "metadata": {},
     "output_type": "execute_result"
    }
   ],
   "source": [
    "stack_data.shape"
   ]
  },
  {
   "cell_type": "code",
   "execution_count": 91,
   "id": "68a19461",
   "metadata": {},
   "outputs": [
    {
     "data": {
      "text/plain": [
       "0        False\n",
       "1        False\n",
       "2        False\n",
       "3        False\n",
       "4        False\n",
       "         ...  \n",
       "44995    False\n",
       "44996    False\n",
       "44997    False\n",
       "44998    False\n",
       "44999    False\n",
       "Length: 45000, dtype: bool"
      ]
     },
     "execution_count": 91,
     "metadata": {},
     "output_type": "execute_result"
    }
   ],
   "source": [
    "#See if data is dublicated\n",
    "stack_data.duplicated()"
   ]
  },
  {
   "cell_type": "code",
   "execution_count": 92,
   "id": "5edcf093",
   "metadata": {},
   "outputs": [
    {
     "data": {
      "text/html": [
       "<div>\n",
       "<style scoped>\n",
       "    .dataframe tbody tr th:only-of-type {\n",
       "        vertical-align: middle;\n",
       "    }\n",
       "\n",
       "    .dataframe tbody tr th {\n",
       "        vertical-align: top;\n",
       "    }\n",
       "\n",
       "    .dataframe thead th {\n",
       "        text-align: right;\n",
       "    }\n",
       "</style>\n",
       "<table border=\"1\" class=\"dataframe\">\n",
       "  <thead>\n",
       "    <tr style=\"text-align: right;\">\n",
       "      <th></th>\n",
       "      <th>Id</th>\n",
       "      <th>Title</th>\n",
       "      <th>Body</th>\n",
       "      <th>Tags</th>\n",
       "      <th>CreationDate</th>\n",
       "      <th>Y</th>\n",
       "    </tr>\n",
       "  </thead>\n",
       "  <tbody>\n",
       "    <tr>\n",
       "      <th>0</th>\n",
       "      <td>34552656</td>\n",
       "      <td>Java: Repeat Task Every Random Seconds</td>\n",
       "      <td>&lt;p&gt;I'm already familiar with repeating tasks e...</td>\n",
       "      <td>&lt;java&gt;&lt;repeat&gt;</td>\n",
       "      <td>2016-01-01 00:21:59</td>\n",
       "      <td>LQ_CLOSE</td>\n",
       "    </tr>\n",
       "    <tr>\n",
       "      <th>1</th>\n",
       "      <td>34553034</td>\n",
       "      <td>Why are Java Optionals immutable?</td>\n",
       "      <td>&lt;p&gt;I'd like to understand why Java 8 Optionals...</td>\n",
       "      <td>&lt;java&gt;&lt;optional&gt;</td>\n",
       "      <td>2016-01-01 02:03:20</td>\n",
       "      <td>HQ</td>\n",
       "    </tr>\n",
       "    <tr>\n",
       "      <th>2</th>\n",
       "      <td>34553174</td>\n",
       "      <td>Text Overlay Image with Darkened Opacity React...</td>\n",
       "      <td>&lt;p&gt;I am attempting to overlay a title over an ...</td>\n",
       "      <td>&lt;javascript&gt;&lt;image&gt;&lt;overlay&gt;&lt;react-native&gt;&lt;opa...</td>\n",
       "      <td>2016-01-01 02:48:24</td>\n",
       "      <td>HQ</td>\n",
       "    </tr>\n",
       "    <tr>\n",
       "      <th>3</th>\n",
       "      <td>34553318</td>\n",
       "      <td>Why ternary operator in swift is so picky?</td>\n",
       "      <td>&lt;p&gt;The question is very simple, but I just cou...</td>\n",
       "      <td>&lt;swift&gt;&lt;operators&gt;&lt;whitespace&gt;&lt;ternary-operato...</td>\n",
       "      <td>2016-01-01 03:30:17</td>\n",
       "      <td>HQ</td>\n",
       "    </tr>\n",
       "    <tr>\n",
       "      <th>4</th>\n",
       "      <td>34553755</td>\n",
       "      <td>hide/show fab with scale animation</td>\n",
       "      <td>&lt;p&gt;I'm using custom floatingactionmenu. I need...</td>\n",
       "      <td>&lt;android&gt;&lt;material-design&gt;&lt;floating-action-but...</td>\n",
       "      <td>2016-01-01 05:21:48</td>\n",
       "      <td>HQ</td>\n",
       "    </tr>\n",
       "    <tr>\n",
       "      <th>...</th>\n",
       "      <td>...</td>\n",
       "      <td>...</td>\n",
       "      <td>...</td>\n",
       "      <td>...</td>\n",
       "      <td>...</td>\n",
       "      <td>...</td>\n",
       "    </tr>\n",
       "    <tr>\n",
       "      <th>44995</th>\n",
       "      <td>60461435</td>\n",
       "      <td>Convert List&lt;String&gt; to string C# - asp.net - ...</td>\n",
       "      <td>&lt;p&gt;I am new to this and I am asking for help t...</td>\n",
       "      <td>&lt;c#&gt;&lt;asp.net&gt;&lt;sql-server&gt;</td>\n",
       "      <td>2020-02-29 02:22:18</td>\n",
       "      <td>LQ_CLOSE</td>\n",
       "    </tr>\n",
       "    <tr>\n",
       "      <th>44996</th>\n",
       "      <td>60461754</td>\n",
       "      <td>Does Python execute code from the top or botto...</td>\n",
       "      <td>&lt;p&gt;I am working on learning Python and was won...</td>\n",
       "      <td>&lt;python&gt;</td>\n",
       "      <td>2020-02-29 03:33:59</td>\n",
       "      <td>LQ_CLOSE</td>\n",
       "    </tr>\n",
       "    <tr>\n",
       "      <th>44997</th>\n",
       "      <td>60462001</td>\n",
       "      <td>how to change payment date in Azure?</td>\n",
       "      <td>&lt;p&gt;It looks like it costs 8 days per month in ...</td>\n",
       "      <td>&lt;azure&gt;&lt;billing&gt;</td>\n",
       "      <td>2020-02-29 04:34:16</td>\n",
       "      <td>LQ_CLOSE</td>\n",
       "    </tr>\n",
       "    <tr>\n",
       "      <th>44998</th>\n",
       "      <td>60465318</td>\n",
       "      <td>how to implement fill in the blank in Swift</td>\n",
       "      <td>&lt;p&gt;\"I _____ any questions.\"&lt;/p&gt;\\n\\n&lt;p&gt;I want t...</td>\n",
       "      <td>&lt;ios&gt;&lt;swift&gt;</td>\n",
       "      <td>2020-02-29 12:50:43</td>\n",
       "      <td>LQ_CLOSE</td>\n",
       "    </tr>\n",
       "    <tr>\n",
       "      <th>44999</th>\n",
       "      <td>60468018</td>\n",
       "      <td>How can I make a c# application outside of vis...</td>\n",
       "      <td>&lt;p&gt;I'm very new to programming and I'm teachin...</td>\n",
       "      <td>&lt;c#&gt;&lt;visual-studio&gt;</td>\n",
       "      <td>2020-02-29 17:55:56</td>\n",
       "      <td>LQ_CLOSE</td>\n",
       "    </tr>\n",
       "  </tbody>\n",
       "</table>\n",
       "<p>45000 rows × 6 columns</p>\n",
       "</div>"
      ],
      "text/plain": [
       "             Id                                              Title  \\\n",
       "0      34552656             Java: Repeat Task Every Random Seconds   \n",
       "1      34553034                  Why are Java Optionals immutable?   \n",
       "2      34553174  Text Overlay Image with Darkened Opacity React...   \n",
       "3      34553318         Why ternary operator in swift is so picky?   \n",
       "4      34553755                 hide/show fab with scale animation   \n",
       "...         ...                                                ...   \n",
       "44995  60461435  Convert List<String> to string C# - asp.net - ...   \n",
       "44996  60461754  Does Python execute code from the top or botto...   \n",
       "44997  60462001               how to change payment date in Azure?   \n",
       "44998  60465318        how to implement fill in the blank in Swift   \n",
       "44999  60468018  How can I make a c# application outside of vis...   \n",
       "\n",
       "                                                    Body  \\\n",
       "0      <p>I'm already familiar with repeating tasks e...   \n",
       "1      <p>I'd like to understand why Java 8 Optionals...   \n",
       "2      <p>I am attempting to overlay a title over an ...   \n",
       "3      <p>The question is very simple, but I just cou...   \n",
       "4      <p>I'm using custom floatingactionmenu. I need...   \n",
       "...                                                  ...   \n",
       "44995  <p>I am new to this and I am asking for help t...   \n",
       "44996  <p>I am working on learning Python and was won...   \n",
       "44997  <p>It looks like it costs 8 days per month in ...   \n",
       "44998  <p>\"I _____ any questions.\"</p>\\n\\n<p>I want t...   \n",
       "44999  <p>I'm very new to programming and I'm teachin...   \n",
       "\n",
       "                                                    Tags         CreationDate  \\\n",
       "0                                         <java><repeat>  2016-01-01 00:21:59   \n",
       "1                                       <java><optional>  2016-01-01 02:03:20   \n",
       "2      <javascript><image><overlay><react-native><opa...  2016-01-01 02:48:24   \n",
       "3      <swift><operators><whitespace><ternary-operato...  2016-01-01 03:30:17   \n",
       "4      <android><material-design><floating-action-but...  2016-01-01 05:21:48   \n",
       "...                                                  ...                  ...   \n",
       "44995                          <c#><asp.net><sql-server>  2020-02-29 02:22:18   \n",
       "44996                                           <python>  2020-02-29 03:33:59   \n",
       "44997                                   <azure><billing>  2020-02-29 04:34:16   \n",
       "44998                                       <ios><swift>  2020-02-29 12:50:43   \n",
       "44999                                <c#><visual-studio>  2020-02-29 17:55:56   \n",
       "\n",
       "              Y  \n",
       "0      LQ_CLOSE  \n",
       "1            HQ  \n",
       "2            HQ  \n",
       "3            HQ  \n",
       "4            HQ  \n",
       "...         ...  \n",
       "44995  LQ_CLOSE  \n",
       "44996  LQ_CLOSE  \n",
       "44997  LQ_CLOSE  \n",
       "44998  LQ_CLOSE  \n",
       "44999  LQ_CLOSE  \n",
       "\n",
       "[45000 rows x 6 columns]"
      ]
     },
     "execution_count": 92,
     "metadata": {},
     "output_type": "execute_result"
    }
   ],
   "source": [
    "#Remove the dublicates\n",
    "stack_data.drop_duplicates()"
   ]
  },
  {
   "cell_type": "code",
   "execution_count": 93,
   "id": "4d9851a5",
   "metadata": {},
   "outputs": [],
   "source": [
    "#lets drop id, date and y\n",
    "#stack_data.drop('')\n",
    "stack_data.drop(['Id', 'CreationDate','Y'], axis=1, inplace=True)"
   ]
  },
  {
   "cell_type": "code",
   "execution_count": 94,
   "id": "b054e837",
   "metadata": {},
   "outputs": [
    {
     "data": {
      "text/html": [
       "<div>\n",
       "<style scoped>\n",
       "    .dataframe tbody tr th:only-of-type {\n",
       "        vertical-align: middle;\n",
       "    }\n",
       "\n",
       "    .dataframe tbody tr th {\n",
       "        vertical-align: top;\n",
       "    }\n",
       "\n",
       "    .dataframe thead th {\n",
       "        text-align: right;\n",
       "    }\n",
       "</style>\n",
       "<table border=\"1\" class=\"dataframe\">\n",
       "  <thead>\n",
       "    <tr style=\"text-align: right;\">\n",
       "      <th></th>\n",
       "      <th>Title</th>\n",
       "      <th>Body</th>\n",
       "      <th>Tags</th>\n",
       "    </tr>\n",
       "  </thead>\n",
       "  <tbody>\n",
       "    <tr>\n",
       "      <th>0</th>\n",
       "      <td>Java: Repeat Task Every Random Seconds</td>\n",
       "      <td>&lt;p&gt;I'm already familiar with repeating tasks e...</td>\n",
       "      <td>&lt;java&gt;&lt;repeat&gt;</td>\n",
       "    </tr>\n",
       "    <tr>\n",
       "      <th>1</th>\n",
       "      <td>Why are Java Optionals immutable?</td>\n",
       "      <td>&lt;p&gt;I'd like to understand why Java 8 Optionals...</td>\n",
       "      <td>&lt;java&gt;&lt;optional&gt;</td>\n",
       "    </tr>\n",
       "    <tr>\n",
       "      <th>2</th>\n",
       "      <td>Text Overlay Image with Darkened Opacity React...</td>\n",
       "      <td>&lt;p&gt;I am attempting to overlay a title over an ...</td>\n",
       "      <td>&lt;javascript&gt;&lt;image&gt;&lt;overlay&gt;&lt;react-native&gt;&lt;opa...</td>\n",
       "    </tr>\n",
       "    <tr>\n",
       "      <th>3</th>\n",
       "      <td>Why ternary operator in swift is so picky?</td>\n",
       "      <td>&lt;p&gt;The question is very simple, but I just cou...</td>\n",
       "      <td>&lt;swift&gt;&lt;operators&gt;&lt;whitespace&gt;&lt;ternary-operato...</td>\n",
       "    </tr>\n",
       "    <tr>\n",
       "      <th>4</th>\n",
       "      <td>hide/show fab with scale animation</td>\n",
       "      <td>&lt;p&gt;I'm using custom floatingactionmenu. I need...</td>\n",
       "      <td>&lt;android&gt;&lt;material-design&gt;&lt;floating-action-but...</td>\n",
       "    </tr>\n",
       "    <tr>\n",
       "      <th>5</th>\n",
       "      <td>Accessing pointer member of the structure usin...</td>\n",
       "      <td>&lt;p&gt;I have defined integer pointer inside the s...</td>\n",
       "      <td>&lt;c&gt;&lt;pointers&gt;&lt;data-structures&gt;</td>\n",
       "    </tr>\n",
       "    <tr>\n",
       "      <th>6</th>\n",
       "      <td>How To Disable 2nd Saturday 4th Saturday ,Sund...</td>\n",
       "      <td>i want to Disable 2nd Saturday 4th saturday,...</td>\n",
       "      <td>&lt;javascript&gt;&lt;jquery&gt;&lt;jquery-ui&gt;</td>\n",
       "    </tr>\n",
       "    <tr>\n",
       "      <th>7</th>\n",
       "      <td>Resizing containers in bootstrap</td>\n",
       "      <td>I am new to bootstrap and i would like to find...</td>\n",
       "      <td>&lt;jquery&gt;&lt;html&gt;&lt;css&gt;&lt;twitter-bootstrap&gt;</td>\n",
       "    </tr>\n",
       "    <tr>\n",
       "      <th>8</th>\n",
       "      <td>Changing Theme in Windows 10 UWP App Programma...</td>\n",
       "      <td>&lt;p&gt;I was able to change theme using &lt;code&gt;this...</td>\n",
       "      <td>&lt;c#&gt;&lt;windows-10&gt;&lt;windows-10-mobile&gt;&lt;windows-10...</td>\n",
       "    </tr>\n",
       "    <tr>\n",
       "      <th>9</th>\n",
       "      <td>TextBox Value Disappears VB6</td>\n",
       "      <td>I my case I am having two form Form 1 and Form...</td>\n",
       "      <td>&lt;vb6&gt;</td>\n",
       "    </tr>\n",
       "  </tbody>\n",
       "</table>\n",
       "</div>"
      ],
      "text/plain": [
       "                                               Title  \\\n",
       "0             Java: Repeat Task Every Random Seconds   \n",
       "1                  Why are Java Optionals immutable?   \n",
       "2  Text Overlay Image with Darkened Opacity React...   \n",
       "3         Why ternary operator in swift is so picky?   \n",
       "4                 hide/show fab with scale animation   \n",
       "5  Accessing pointer member of the structure usin...   \n",
       "6  How To Disable 2nd Saturday 4th Saturday ,Sund...   \n",
       "7                   Resizing containers in bootstrap   \n",
       "8  Changing Theme in Windows 10 UWP App Programma...   \n",
       "9                       TextBox Value Disappears VB6   \n",
       "\n",
       "                                                Body  \\\n",
       "0  <p>I'm already familiar with repeating tasks e...   \n",
       "1  <p>I'd like to understand why Java 8 Optionals...   \n",
       "2  <p>I am attempting to overlay a title over an ...   \n",
       "3  <p>The question is very simple, but I just cou...   \n",
       "4  <p>I'm using custom floatingactionmenu. I need...   \n",
       "5  <p>I have defined integer pointer inside the s...   \n",
       "6    i want to Disable 2nd Saturday 4th saturday,...   \n",
       "7  I am new to bootstrap and i would like to find...   \n",
       "8  <p>I was able to change theme using <code>this...   \n",
       "9  I my case I am having two form Form 1 and Form...   \n",
       "\n",
       "                                                Tags  \n",
       "0                                     <java><repeat>  \n",
       "1                                   <java><optional>  \n",
       "2  <javascript><image><overlay><react-native><opa...  \n",
       "3  <swift><operators><whitespace><ternary-operato...  \n",
       "4  <android><material-design><floating-action-but...  \n",
       "5                     <c><pointers><data-structures>  \n",
       "6                    <javascript><jquery><jquery-ui>  \n",
       "7             <jquery><html><css><twitter-bootstrap>  \n",
       "8  <c#><windows-10><windows-10-mobile><windows-10...  \n",
       "9                                              <vb6>  "
      ]
     },
     "execution_count": 94,
     "metadata": {},
     "output_type": "execute_result"
    }
   ],
   "source": [
    "#After dropping\n",
    "stack_data.head(10)"
   ]
  },
  {
   "cell_type": "code",
   "execution_count": 95,
   "id": "dd9c39d7",
   "metadata": {},
   "outputs": [],
   "source": [
    "import html\n",
    "from spacy.lang.en.stop_words import STOP_WORDS\n",
    "\n",
    "\n",
    "#Now we clean the dataset\n",
    "def data_cleaning(text):\n",
    "    #Removing Html tag\n",
    "    def escaping_html_char(text):\n",
    "        \n",
    "        parse_text = html.unescape(text)\n",
    "        return parse_text\n",
    "    #Here we clean the data\n",
    "    def clean(text):\n",
    "        \n",
    "        text = re.sub('[^\\w\\s]',\" \", text.lower())\n",
    "        #text = \" \".join([word for word in text.split() if word not in STOP_WORDS])\n",
    "        return text\n",
    "    \n",
    "    text = escaping_html_char(text)\n",
    "    text = clean(text)\n",
    "    return text"
   ]
  },
  {
   "cell_type": "code",
   "execution_count": 96,
   "id": "7e9dd54b",
   "metadata": {},
   "outputs": [
    {
     "data": {
      "text/html": [
       "<div>\n",
       "<style scoped>\n",
       "    .dataframe tbody tr th:only-of-type {\n",
       "        vertical-align: middle;\n",
       "    }\n",
       "\n",
       "    .dataframe tbody tr th {\n",
       "        vertical-align: top;\n",
       "    }\n",
       "\n",
       "    .dataframe thead th {\n",
       "        text-align: right;\n",
       "    }\n",
       "</style>\n",
       "<table border=\"1\" class=\"dataframe\">\n",
       "  <thead>\n",
       "    <tr style=\"text-align: right;\">\n",
       "      <th></th>\n",
       "      <th>Title</th>\n",
       "      <th>Body</th>\n",
       "      <th>Tags</th>\n",
       "    </tr>\n",
       "  </thead>\n",
       "  <tbody>\n",
       "    <tr>\n",
       "      <th>0</th>\n",
       "      <td>Java: Repeat Task Every Random Seconds</td>\n",
       "      <td>&lt;p&gt;I'm already familiar with repeating tasks e...</td>\n",
       "      <td>java  repeat</td>\n",
       "    </tr>\n",
       "    <tr>\n",
       "      <th>1</th>\n",
       "      <td>Why are Java Optionals immutable?</td>\n",
       "      <td>&lt;p&gt;I'd like to understand why Java 8 Optionals...</td>\n",
       "      <td>java  optional</td>\n",
       "    </tr>\n",
       "    <tr>\n",
       "      <th>2</th>\n",
       "      <td>Text Overlay Image with Darkened Opacity React...</td>\n",
       "      <td>&lt;p&gt;I am attempting to overlay a title over an ...</td>\n",
       "      <td>javascript  image  overlay  react native  opa...</td>\n",
       "    </tr>\n",
       "    <tr>\n",
       "      <th>3</th>\n",
       "      <td>Why ternary operator in swift is so picky?</td>\n",
       "      <td>&lt;p&gt;The question is very simple, but I just cou...</td>\n",
       "      <td>swift  operators  whitespace  ternary operato...</td>\n",
       "    </tr>\n",
       "    <tr>\n",
       "      <th>4</th>\n",
       "      <td>hide/show fab with scale animation</td>\n",
       "      <td>&lt;p&gt;I'm using custom floatingactionmenu. I need...</td>\n",
       "      <td>android  material design  floating action but...</td>\n",
       "    </tr>\n",
       "  </tbody>\n",
       "</table>\n",
       "</div>"
      ],
      "text/plain": [
       "                                               Title  \\\n",
       "0             Java: Repeat Task Every Random Seconds   \n",
       "1                  Why are Java Optionals immutable?   \n",
       "2  Text Overlay Image with Darkened Opacity React...   \n",
       "3         Why ternary operator in swift is so picky?   \n",
       "4                 hide/show fab with scale animation   \n",
       "\n",
       "                                                Body  \\\n",
       "0  <p>I'm already familiar with repeating tasks e...   \n",
       "1  <p>I'd like to understand why Java 8 Optionals...   \n",
       "2  <p>I am attempting to overlay a title over an ...   \n",
       "3  <p>The question is very simple, but I just cou...   \n",
       "4  <p>I'm using custom floatingactionmenu. I need...   \n",
       "\n",
       "                                                Tags  \n",
       "0                                      java  repeat   \n",
       "1                                    java  optional   \n",
       "2   javascript  image  overlay  react native  opa...  \n",
       "3   swift  operators  whitespace  ternary operato...  \n",
       "4   android  material design  floating action but...  "
      ]
     },
     "execution_count": 96,
     "metadata": {},
     "output_type": "execute_result"
    }
   ],
   "source": [
    "stack_data['Tags'] = stack_data['Tags'].apply(data_cleaning)\n",
    "stack_data.head()"
   ]
  },
  {
   "cell_type": "code",
   "execution_count": 97,
   "id": "16bfb263",
   "metadata": {},
   "outputs": [
    {
     "name": "stderr",
     "output_type": "stream",
     "text": [
      "100%|████████████████████████████████████████████████████████████████████████| 45000/45000 [00:00<00:00, 119500.38it/s]\n"
     ]
    }
   ],
   "source": [
    "new_tags = []\n",
    "for i in tqdm(range(stack_data.shape[0])):\n",
    "    j = stack_data.Tags.iloc[i].split()[0]\n",
    "    new_tags.append(j)"
   ]
  },
  {
   "cell_type": "code",
   "execution_count": 98,
   "id": "81722a32",
   "metadata": {},
   "outputs": [
    {
     "data": {
      "text/html": [
       "<div>\n",
       "<style scoped>\n",
       "    .dataframe tbody tr th:only-of-type {\n",
       "        vertical-align: middle;\n",
       "    }\n",
       "\n",
       "    .dataframe tbody tr th {\n",
       "        vertical-align: top;\n",
       "    }\n",
       "\n",
       "    .dataframe thead th {\n",
       "        text-align: right;\n",
       "    }\n",
       "</style>\n",
       "<table border=\"1\" class=\"dataframe\">\n",
       "  <thead>\n",
       "    <tr style=\"text-align: right;\">\n",
       "      <th></th>\n",
       "      <th>Title</th>\n",
       "      <th>Body</th>\n",
       "      <th>Tags</th>\n",
       "    </tr>\n",
       "  </thead>\n",
       "  <tbody>\n",
       "    <tr>\n",
       "      <th>0</th>\n",
       "      <td>Java: Repeat Task Every Random Seconds</td>\n",
       "      <td>&lt;p&gt;I'm already familiar with repeating tasks e...</td>\n",
       "      <td>java</td>\n",
       "    </tr>\n",
       "    <tr>\n",
       "      <th>1</th>\n",
       "      <td>Why are Java Optionals immutable?</td>\n",
       "      <td>&lt;p&gt;I'd like to understand why Java 8 Optionals...</td>\n",
       "      <td>java</td>\n",
       "    </tr>\n",
       "    <tr>\n",
       "      <th>2</th>\n",
       "      <td>Text Overlay Image with Darkened Opacity React...</td>\n",
       "      <td>&lt;p&gt;I am attempting to overlay a title over an ...</td>\n",
       "      <td>javascript</td>\n",
       "    </tr>\n",
       "    <tr>\n",
       "      <th>3</th>\n",
       "      <td>Why ternary operator in swift is so picky?</td>\n",
       "      <td>&lt;p&gt;The question is very simple, but I just cou...</td>\n",
       "      <td>swift</td>\n",
       "    </tr>\n",
       "    <tr>\n",
       "      <th>4</th>\n",
       "      <td>hide/show fab with scale animation</td>\n",
       "      <td>&lt;p&gt;I'm using custom floatingactionmenu. I need...</td>\n",
       "      <td>android</td>\n",
       "    </tr>\n",
       "  </tbody>\n",
       "</table>\n",
       "</div>"
      ],
      "text/plain": [
       "                                               Title  \\\n",
       "0             Java: Repeat Task Every Random Seconds   \n",
       "1                  Why are Java Optionals immutable?   \n",
       "2  Text Overlay Image with Darkened Opacity React...   \n",
       "3         Why ternary operator in swift is so picky?   \n",
       "4                 hide/show fab with scale animation   \n",
       "\n",
       "                                                Body        Tags  \n",
       "0  <p>I'm already familiar with repeating tasks e...        java  \n",
       "1  <p>I'd like to understand why Java 8 Optionals...        java  \n",
       "2  <p>I am attempting to overlay a title over an ...  javascript  \n",
       "3  <p>The question is very simple, but I just cou...       swift  \n",
       "4  <p>I'm using custom floatingactionmenu. I need...     android  "
      ]
     },
     "execution_count": 98,
     "metadata": {},
     "output_type": "execute_result"
    }
   ],
   "source": [
    "stack_data.Tags = new_tags\n",
    "stack_data.head()"
   ]
  },
  {
   "cell_type": "code",
   "execution_count": 99,
   "id": "7be7fd9e",
   "metadata": {},
   "outputs": [],
   "source": [
    "labels = {\"c#\" : 0, \"java\" : 1, \"c++\" : 2, \"c\" : 3, \"ios\" : 4, \"javascript\" : 5, \"python\" : 6, \"php\" : 7}\n",
    "labels_map = { 0 : \"c#\" , 1 : \"java\" , 2 : \"c++\" , 3 : \"c\", 4 : \"ios\", 5 : \"javascript\", 6 : \"python\", 7 : \"php\"}"
   ]
  },
  {
   "cell_type": "code",
   "execution_count": 100,
   "id": "9f98e90b",
   "metadata": {},
   "outputs": [
    {
     "data": {
      "text/html": [
       "<div>\n",
       "<style scoped>\n",
       "    .dataframe tbody tr th:only-of-type {\n",
       "        vertical-align: middle;\n",
       "    }\n",
       "\n",
       "    .dataframe tbody tr th {\n",
       "        vertical-align: top;\n",
       "    }\n",
       "\n",
       "    .dataframe thead th {\n",
       "        text-align: right;\n",
       "    }\n",
       "</style>\n",
       "<table border=\"1\" class=\"dataframe\">\n",
       "  <thead>\n",
       "    <tr style=\"text-align: right;\">\n",
       "      <th></th>\n",
       "      <th>Title</th>\n",
       "      <th>Body</th>\n",
       "      <th>Tags</th>\n",
       "    </tr>\n",
       "  </thead>\n",
       "  <tbody>\n",
       "    <tr>\n",
       "      <th>0</th>\n",
       "      <td>Java: Repeat Task Every Random Seconds</td>\n",
       "      <td>&lt;p&gt;I'm already familiar with repeating tasks e...</td>\n",
       "      <td>1.0</td>\n",
       "    </tr>\n",
       "    <tr>\n",
       "      <th>1</th>\n",
       "      <td>Why are Java Optionals immutable?</td>\n",
       "      <td>&lt;p&gt;I'd like to understand why Java 8 Optionals...</td>\n",
       "      <td>1.0</td>\n",
       "    </tr>\n",
       "    <tr>\n",
       "      <th>2</th>\n",
       "      <td>Text Overlay Image with Darkened Opacity React...</td>\n",
       "      <td>&lt;p&gt;I am attempting to overlay a title over an ...</td>\n",
       "      <td>5.0</td>\n",
       "    </tr>\n",
       "    <tr>\n",
       "      <th>3</th>\n",
       "      <td>Why ternary operator in swift is so picky?</td>\n",
       "      <td>&lt;p&gt;The question is very simple, but I just cou...</td>\n",
       "      <td>NaN</td>\n",
       "    </tr>\n",
       "    <tr>\n",
       "      <th>4</th>\n",
       "      <td>hide/show fab with scale animation</td>\n",
       "      <td>&lt;p&gt;I'm using custom floatingactionmenu. I need...</td>\n",
       "      <td>NaN</td>\n",
       "    </tr>\n",
       "  </tbody>\n",
       "</table>\n",
       "</div>"
      ],
      "text/plain": [
       "                                               Title  \\\n",
       "0             Java: Repeat Task Every Random Seconds   \n",
       "1                  Why are Java Optionals immutable?   \n",
       "2  Text Overlay Image with Darkened Opacity React...   \n",
       "3         Why ternary operator in swift is so picky?   \n",
       "4                 hide/show fab with scale animation   \n",
       "\n",
       "                                                Body  Tags  \n",
       "0  <p>I'm already familiar with repeating tasks e...   1.0  \n",
       "1  <p>I'd like to understand why Java 8 Optionals...   1.0  \n",
       "2  <p>I am attempting to overlay a title over an ...   5.0  \n",
       "3  <p>The question is very simple, but I just cou...   NaN  \n",
       "4  <p>I'm using custom floatingactionmenu. I need...   NaN  "
      ]
     },
     "execution_count": 100,
     "metadata": {},
     "output_type": "execute_result"
    }
   ],
   "source": [
    "#Here we replace the tags with numbers#\n",
    "stack_data[\"Tags\"] = stack_data[\"Tags\"].map(labels)\n",
    "stack_data.head()"
   ]
  },
  {
   "cell_type": "code",
   "execution_count": 101,
   "id": "9ceb8168",
   "metadata": {},
   "outputs": [
    {
     "data": {
      "text/html": [
       "<div>\n",
       "<style scoped>\n",
       "    .dataframe tbody tr th:only-of-type {\n",
       "        vertical-align: middle;\n",
       "    }\n",
       "\n",
       "    .dataframe tbody tr th {\n",
       "        vertical-align: top;\n",
       "    }\n",
       "\n",
       "    .dataframe thead th {\n",
       "        text-align: right;\n",
       "    }\n",
       "</style>\n",
       "<table border=\"1\" class=\"dataframe\">\n",
       "  <thead>\n",
       "    <tr style=\"text-align: right;\">\n",
       "      <th></th>\n",
       "      <th>Title</th>\n",
       "      <th>Body</th>\n",
       "      <th>Tags</th>\n",
       "    </tr>\n",
       "  </thead>\n",
       "  <tbody>\n",
       "    <tr>\n",
       "      <th>0</th>\n",
       "      <td>Java: Repeat Task Every Random Seconds</td>\n",
       "      <td>&lt;p&gt;I'm already familiar with repeating tasks e...</td>\n",
       "      <td>1.0</td>\n",
       "    </tr>\n",
       "    <tr>\n",
       "      <th>1</th>\n",
       "      <td>Why are Java Optionals immutable?</td>\n",
       "      <td>&lt;p&gt;I'd like to understand why Java 8 Optionals...</td>\n",
       "      <td>1.0</td>\n",
       "    </tr>\n",
       "    <tr>\n",
       "      <th>2</th>\n",
       "      <td>Text Overlay Image with Darkened Opacity React...</td>\n",
       "      <td>&lt;p&gt;I am attempting to overlay a title over an ...</td>\n",
       "      <td>5.0</td>\n",
       "    </tr>\n",
       "    <tr>\n",
       "      <th>5</th>\n",
       "      <td>Accessing pointer member of the structure usin...</td>\n",
       "      <td>&lt;p&gt;I have defined integer pointer inside the s...</td>\n",
       "      <td>3.0</td>\n",
       "    </tr>\n",
       "    <tr>\n",
       "      <th>6</th>\n",
       "      <td>How To Disable 2nd Saturday 4th Saturday ,Sund...</td>\n",
       "      <td>i want to Disable 2nd Saturday 4th saturday,...</td>\n",
       "      <td>5.0</td>\n",
       "    </tr>\n",
       "  </tbody>\n",
       "</table>\n",
       "</div>"
      ],
      "text/plain": [
       "                                               Title  \\\n",
       "0             Java: Repeat Task Every Random Seconds   \n",
       "1                  Why are Java Optionals immutable?   \n",
       "2  Text Overlay Image with Darkened Opacity React...   \n",
       "5  Accessing pointer member of the structure usin...   \n",
       "6  How To Disable 2nd Saturday 4th Saturday ,Sund...   \n",
       "\n",
       "                                                Body  Tags  \n",
       "0  <p>I'm already familiar with repeating tasks e...   1.0  \n",
       "1  <p>I'd like to understand why Java 8 Optionals...   1.0  \n",
       "2  <p>I am attempting to overlay a title over an ...   5.0  \n",
       "5  <p>I have defined integer pointer inside the s...   3.0  \n",
       "6    i want to Disable 2nd Saturday 4th saturday,...   5.0  "
      ]
     },
     "execution_count": 101,
     "metadata": {},
     "output_type": "execute_result"
    }
   ],
   "source": [
    "#Lets drop those tags that i am not checking at\n",
    "stack_data = stack_data.dropna()\n",
    "stack_data.head()"
   ]
  },
  {
   "cell_type": "code",
   "execution_count": 102,
   "id": "5b323d93",
   "metadata": {},
   "outputs": [
    {
     "data": {
      "text/plain": [
       "(25742, 3)"
      ]
     },
     "execution_count": 102,
     "metadata": {},
     "output_type": "execute_result"
    }
   ],
   "source": [
    "stack_data.shape"
   ]
  },
  {
   "cell_type": "code",
   "execution_count": 103,
   "id": "e413f6b6",
   "metadata": {},
   "outputs": [],
   "source": [
    "#Lets split the x and y\n",
    "X = stack_data.Title.values\n",
    "y = stack_data.Tags.values"
   ]
  },
  {
   "cell_type": "code",
   "execution_count": 104,
   "id": "c094d7cc",
   "metadata": {},
   "outputs": [
    {
     "data": {
      "text/plain": [
       "((15444,), (5149,), (5149,))"
      ]
     },
     "execution_count": 104,
     "metadata": {},
     "output_type": "execute_result"
    }
   ],
   "source": [
    "#Now we test split the data\n",
    "from sklearn.model_selection import train_test_split\n",
    "\n",
    "X_train, X_test, y_train, y_test = train_test_split(X, y, test_size=0.20,stratify = y)\n",
    "X_train, X_cv, y_train, y_cv = train_test_split(X_train, y_train, test_size=0.25, stratify = y_train)\n",
    "X_train.shape, X_test.shape, X_cv.shape\n"
   ]
  },
  {
   "cell_type": "code",
   "execution_count": 105,
   "id": "290a6c10",
   "metadata": {},
   "outputs": [
    {
     "data": {
      "text/plain": [
       "((15444, 10293), (5149, 10293), (5149, 10293))"
      ]
     },
     "execution_count": 105,
     "metadata": {},
     "output_type": "execute_result"
    }
   ],
   "source": [
    "#Transform the data to a matrix for easy ml manipulation\n",
    "tfidf = TfidfVectorizer()\n",
    "X_train = tfidf.fit_transform(X_train)\n",
    "X_cv = tfidf.transform(X_cv)\n",
    "X_test = tfidf.transform(X_test)\n",
    "X_train.shape, X_cv.shape, X_test.shape"
   ]
  },
  {
   "cell_type": "code",
   "execution_count": 107,
   "id": "d65a6c5a",
   "metadata": {},
   "outputs": [],
   "source": [
    "from sklearn.metrics import accuracy_score\n",
    "score_train = []\n",
    "score_cv = []\n",
    "for i in ([1e-9, 1e-8, 1e-7, 1e-6, 0.00001, 0.0001, 0.001, 0.01, 0.1]):\n",
    "    clf = SGDClassifier(alpha = i, loss = \"log\", class_weight=\"balanced\", n_jobs=-1)\n",
    "    clf.fit(X_train, y_train)\n",
    "    y_predict = clf.predict(X_train)\n",
    "    y_predict_cv = clf.predict(X_cv)\n",
    "    score_train.append(accuracy_score(y_train, y_predict))\n",
    "    score_cv.append(accuracy_score(y_cv, y_predict_cv))"
   ]
  },
  {
   "cell_type": "code",
   "execution_count": 108,
   "id": "96577bb1",
   "metadata": {},
   "outputs": [
    {
     "data": {
      "image/png": "[encoded data removed]",
      "text/plain": [
       "<Figure size 432x288 with 1 Axes>"
      ]
     },
     "metadata": {
      "needs_background": "light"
     },
     "output_type": "display_data"
    }
   ],
   "source": [
    "import matplotlib.pyplot as plt\n",
    "lis = [0.000000001, 0.00000001, 0.0000001, 0.000001, 0.00001, 0.0001, 0.001]\n",
    "plt.plot(score_train[:-2], lis, label = \"Train Accuracy\")\n",
    "plt.plot(score_cv[:-2], lis, label = \"Cv Accuracy\")\n",
    "plt.legend()\n",
    "plt.show()"
   ]
  },
  {
   "cell_type": "code",
   "execution_count": 109,
   "id": "088ca3cb",
   "metadata": {},
   "outputs": [],
   "source": [
    "best_alpha = 1e-7"
   ]
  },
  {
   "cell_type": "code",
   "execution_count": 110,
   "id": "41405c80",
   "metadata": {},
   "outputs": [
    {
     "name": "stdout",
     "output_type": "stream",
     "text": [
      "The Accuracy of model is :  0.6871237133423966\n"
     ]
    }
   ],
   "source": [
    "from sklearn.metrics import confusion_matrix\n",
    "import seaborn as sns\n",
    "clf = SGDClassifier(alpha = best_alpha, loss = \"log\", class_weight=\"balanced\", n_jobs=-1)\n",
    "clf.fit(X_train, y_train)\n",
    "y_predict = clf.predict(X_test)\n",
    "acc = accuracy_score(y_test, y_predict)\n",
    "cm = confusion_matrix(y_test, y_predict)\n",
    "print(\"The Accuracy of model is : \", acc)"
   ]
  },
  {
   "cell_type": "code",
   "execution_count": 111,
   "id": "a89fe813",
   "metadata": {},
   "outputs": [
    {
     "data": {
      "text/plain": [
       "<AxesSubplot:>"
      ]
     },
     "execution_count": 111,
     "metadata": {},
     "output_type": "execute_result"
    },
    {
     "data": {
      "image/png": "[encoded data removed]",
      "text/plain": [
       "<Figure size 432x288 with 2 Axes>"
      ]
     },
     "metadata": {
      "needs_background": "light"
     },
     "output_type": "display_data"
    }
   ],
   "source": [
    "x_ax = [\"c#\", \"java\", \"c++\", \"c\", \"ios\", \"javascript\", \"python\", \"php\"]\n",
    "y_ax = [\"c#\", \"java\", \"c++\", \"c\", \"ios\", \"javascript\", \"python\", \"php\"]\n",
    "sns.heatmap(cm, annot = True, fmt=\"d\", xticklabels=x_ax, yticklabels=y_ax)"
   ]
  },
  {
   "cell_type": "code",
   "execution_count": 112,
   "id": "d251ce15",
   "metadata": {},
   "outputs": [],
   "source": [
    "score_train = []\n",
    "score_cv = []\n",
    "for i in ([1e-9, 1e-8, 1e-7, 1e-6, 0.00001, 0.0001]):\n",
    "    clf = SGDClassifier(alpha = i, class_weight=\"balanced\", n_jobs=-1)\n",
    "    clf.fit(X_train, y_train)\n",
    "    y_predict = clf.predict(X_train)\n",
    "    y_predict_cv = clf.predict(X_cv)\n",
    "    score_train.append(accuracy_score(y_train, y_predict))\n",
    "    score_cv.append(accuracy_score(y_cv, y_predict_cv))"
   ]
  },
  {
   "cell_type": "code",
   "execution_count": 113,
   "id": "19eb3c46",
   "metadata": {},
   "outputs": [
    {
     "data": {
      "image/png": "[encoded data removed]",
      "text/plain": [
       "<Figure size 432x288 with 1 Axes>"
      ]
     },
     "metadata": {
      "needs_background": "light"
     },
     "output_type": "display_data"
    }
   ],
   "source": [
    "lis = [0.000000001, 0.00000001, 0.0000001, 0.000001, 0.00001, 0.0001]\n",
    "plt.plot(lis, score_train, label = \"Train Accuracy\")\n",
    "plt.plot(lis, score_cv, label = \"Cv Accuracy\")\n",
    "plt.legend()\n",
    "plt.show()"
   ]
  },
  {
   "cell_type": "code",
   "execution_count": 114,
   "id": "32c33b77",
   "metadata": {},
   "outputs": [],
   "source": [
    "best_alpha = 1e-6"
   ]
  },
  {
   "cell_type": "code",
   "execution_count": null,
   "id": "00018507",
   "metadata": {},
   "outputs": [],
   "source": [
    "clf = SGDClassifier(alpha = best_alpha, class_weight=\"balanced\", n_jobs=-1)\n",
    "clf.fit(X_train, y_train)\n",
    "y_predict = clf.predict(X_test)\n",
    "acc = accuracy_score(y_test, y_predict)\n",
    "cm = confusion_matrix(y_test, y_predict)\n",
    "print(\"The Accuracy of model is : \", acc)\n",
    "sns.heatmap(cm, annot = True, fmt=\"d\", xticklabels=x_ax, yticklabels=y_ax)"
   ]
  }
 ],
 "metadata": {
  "kernelspec": {
   "display_name": "Python 3 (ipykernel)",
   "language": "python",
   "name": "python3"
  },
  "language_info": {
   "codemirror_mode": {
    "name": "ipython",
    "version": 3
   },
   "file_extension": ".py",
   "mimetype": "text/x-python",
   "name": "python",
   "nbconvert_exporter": "python",
   "pygments_lexer": "ipython3",
   "version": "3.9.12"
  }
 },
 "nbformat": 4,
 "nbformat_minor": 5
}
